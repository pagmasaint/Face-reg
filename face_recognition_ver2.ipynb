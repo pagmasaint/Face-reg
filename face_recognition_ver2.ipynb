{
 "cells": [
  {
   "cell_type": "code",
   "execution_count": null,
   "metadata": {},
   "outputs": [],
   "source": [
    "import os\n",
    "import pickle\n",
    "import cv2\n",
    "import dlib\n",
    "import numpy as np\n",
    "from mtcnn import MTCNN\n",
    "from sklearn.metrics.pairwise import cosine_similarity\n",
    "from collections import defaultdict"
   ]
  },
  {
   "cell_type": "code",
   "execution_count": null,
   "metadata": {},
   "outputs": [],
   "source": [
    "friends_folder = r\"C:\\Users\\congnguyen\\Documents\\school\\cpv301\\user\\database\""
   ]
  },
  {
   "cell_type": "code",
   "execution_count": null,
   "metadata": {},
   "outputs": [],
   "source": [
    "detector = MTCNN()"
   ]
  },
  {
   "cell_type": "code",
   "execution_count": null,
   "metadata": {},
   "outputs": [],
   "source": [
    "face_rec_model_path = r\"C:\\Users\\congnguyen\\Documents\\school\\cpv301\\dlib_face_recognition_resnet_model_v1.dat\"\n",
    "shape_predictor_path = r\"C:\\Users\\congnguyen\\Documents\\school\\cpv301\\shape_predictor_68_face_landmarks.dat\"\n",
    "sp = dlib.shape_predictor(shape_predictor_path)\n",
    "facerec = dlib.face_recognition_model_v1(face_rec_model_path)"
   ]
  },
  {
   "cell_type": "code",
   "execution_count": null,
   "metadata": {},
   "outputs": [],
   "source": [
    "embedding_face = {}"
   ]
  },
  {
   "cell_type": "code",
   "execution_count": null,
   "metadata": {},
   "outputs": [],
   "source": [
    "for friend_name in os.listdir(friends_folder):\n",
    "    friend_images = os.listdir(os.path.join(friends_folder, friend_name))\n",
    "    for image_name in friend_images:\n",
    "        image_path = os.path.join(friends_folder, friend_name, image_name)\n",
    "        image = cv2.imread(image_path)\n",
    "        faces = detector.detect_faces(image)\n",
    "\n",
    "        for face in faces:\n",
    "            x, y, w, h = face['box']\n",
    "            face_img = image[y:y+h, x:x+w]\n",
    "            shape = sp(image, dlib.rectangle(x, y, x+w, y+h))\n",
    "            embedding_vector = np.array(facerec.compute_face_descriptor(image, shape))\n",
    "            embedding_face[friend_name] = embedding_vector"
   ]
  },
  {
   "cell_type": "code",
   "execution_count": null,
   "metadata": {},
   "outputs": [],
   "source": [
    "with open('face_embedding.pkl', 'wb') as file:\n",
    "    pickle.dump(embedding_face, file)"
   ]
  },
  {
   "cell_type": "code",
   "execution_count": null,
   "metadata": {},
   "outputs": [],
   "source": [
    "with open('face_embedding.pkl', 'rb') as file:\n",
    "    embedding_face = pickle.load(file)"
   ]
  },
  {
   "cell_type": "code",
   "execution_count": 3,
   "metadata": {},
   "outputs": [],
   "source": [
    "cap = cv2.VideoCapture(0)\n",
    "\n",
    "while cap.isOpened():\n",
    "    success, frame = cap.read()\n",
    "    if not success:\n",
    "        break\n",
    "\n",
    "    frame = cv2.flip(frame, 1)\n",
    "    faces = detector.detect_faces(frame)\n",
    "    names = defaultdict(float)\n",
    "\n",
    "    for face in faces:\n",
    "        x, y, w, h = face['box']\n",
    "        cv2.rectangle(frame, (x, y), (x + w, y + h), (0, 0, 255), 2)\n",
    "        face_img = frame[y:y+h, x:x+w]\n",
    "        shape = sp(frame, dlib.rectangle(x, y, x+w, y+h))\n",
    "        embedding_vector = np.array(facerec.compute_face_descriptor(frame, shape))\n",
    "        similarity = [cosine_similarity([embedding_vector], [embedding_f]) for _, embedding_f in embedding_face.items()]\n",
    "        max_sim = max(similarity)\n",
    "        index = similarity.index(max_sim)\n",
    "        name = list(embedding_face.keys())[index]\n",
    "        names[name] = max(names[name], max_sim)\n",
    "\n",
    "    for name, sim in names.items():\n",
    "        sim_value = sim[0][0]\n",
    "        label = f\"{name}:{sim_value:.2f}\" if sim_value > 0.75 else 'Unknown'\n",
    "        cv2.putText(frame, label, (x, y - 10), cv2.FONT_HERSHEY_SIMPLEX, 0.8, (0, 0, 255), 1)\n",
    "\n",
    "    cv2.imshow('Face Recognition', frame)\n",
    "    if cv2.waitKey(40) & 0xFF == ord('q'):\n",
    "        break\n",
    "\n",
    "cap.release()\n",
    "cv2.destroyAllWindows()\n"
   ]
  }
 ],
 "metadata": {
  "kernelspec": {
   "display_name": "base",
   "language": "python",
   "name": "python3"
  },
  "language_info": {
   "codemirror_mode": {
    "name": "ipython",
    "version": 3
   },
   "file_extension": ".py",
   "mimetype": "text/x-python",
   "name": "python",
   "nbconvert_exporter": "python",
   "pygments_lexer": "ipython3",
   "version": "3.12.4"
  }
 },
 "nbformat": 4,
 "nbformat_minor": 2
}
